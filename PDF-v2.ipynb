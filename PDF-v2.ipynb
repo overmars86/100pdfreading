{
 "cells": [
  {
   "cell_type": "code",
   "execution_count": 1,
   "metadata": {
    "ExecuteTime": {
     "end_time": "2020-10-08T07:05:21.165129Z",
     "start_time": "2020-10-08T07:05:20.532149Z"
    }
   },
   "outputs": [],
   "source": [
    "import PyPDF2 as pdf\n",
    "import sys, re, operator, itertools, shutil, time\n",
    "import xlwings as xw\n",
    "import numpy as np\n",
    "import pandas as pd\n",
    "import os, os.path\n",
    "from os import listdir\n",
    "import win32api"
   ]
  },
  {
   "cell_type": "code",
   "execution_count": 2,
   "metadata": {
    "ExecuteTime": {
     "end_time": "2020-10-07T12:21:59.760725Z",
     "start_time": "2020-10-07T12:21:03.550757Z"
    }
   },
   "outputs": [
    {
     "name": "stdout",
     "output_type": "stream",
     "text": [
      "Enter the path: \n"
     ]
    },
    {
     "ename": "PdfReadError",
     "evalue": "EOF marker not found",
     "output_type": "error",
     "traceback": [
      "\u001b[1;31m---------------------------------------------------------------------------\u001b[0m",
      "\u001b[1;31mPdfReadError\u001b[0m                              Traceback (most recent call last)",
      "\u001b[1;32m<ipython-input-2-531abe3cabb1>\u001b[0m in \u001b[0;36m<module>\u001b[1;34m\u001b[0m\n\u001b[0;32m     13\u001b[0m \u001b[1;32mfor\u001b[0m \u001b[0mfiles\u001b[0m\u001b[1;33m,\u001b[0m \u001b[0mi\u001b[0m \u001b[1;32min\u001b[0m \u001b[0mzip\u001b[0m\u001b[1;33m(\u001b[0m\u001b[0mpdf_folder\u001b[0m\u001b[1;33m,\u001b[0m \u001b[0mhelper\u001b[0m\u001b[1;33m)\u001b[0m\u001b[1;33m:\u001b[0m\u001b[1;33m\u001b[0m\u001b[1;33m\u001b[0m\u001b[0m\n\u001b[0;32m     14\u001b[0m     \u001b[0mfile\u001b[0m \u001b[1;33m=\u001b[0m \u001b[0mopen\u001b[0m\u001b[1;33m(\u001b[0m\u001b[0mpath\u001b[0m \u001b[1;33m+\u001b[0m \u001b[0mfiles\u001b[0m\u001b[1;33m,\u001b[0m\u001b[1;34m'rb'\u001b[0m\u001b[1;33m)\u001b[0m\u001b[1;33m\u001b[0m\u001b[1;33m\u001b[0m\u001b[0m\n\u001b[1;32m---> 15\u001b[1;33m     \u001b[0mwater\u001b[0m \u001b[1;33m=\u001b[0m \u001b[0mpdf\u001b[0m\u001b[1;33m.\u001b[0m\u001b[0mPdfFileReader\u001b[0m\u001b[1;33m(\u001b[0m\u001b[0mfile\u001b[0m\u001b[1;33m)\u001b[0m\u001b[1;33m\u001b[0m\u001b[1;33m\u001b[0m\u001b[0m\n\u001b[0m\u001b[0;32m     16\u001b[0m     \u001b[0mwaterpg1\u001b[0m \u001b[1;33m=\u001b[0m \u001b[0mwater\u001b[0m\u001b[1;33m.\u001b[0m\u001b[0mgetPage\u001b[0m\u001b[1;33m(\u001b[0m\u001b[1;36m0\u001b[0m\u001b[1;33m)\u001b[0m\u001b[1;33m\u001b[0m\u001b[1;33m\u001b[0m\u001b[0m\n\u001b[0;32m     17\u001b[0m     \u001b[0mwaterpg1\u001b[0m \u001b[1;33m=\u001b[0m \u001b[0mwaterpg1\u001b[0m\u001b[1;33m.\u001b[0m\u001b[0mextractText\u001b[0m\u001b[1;33m(\u001b[0m\u001b[1;33m)\u001b[0m\u001b[1;33m\u001b[0m\u001b[1;33m\u001b[0m\u001b[0m\n",
      "\u001b[1;32m~\\Anaconda3\\lib\\site-packages\\PyPDF2\\pdf.py\u001b[0m in \u001b[0;36m__init__\u001b[1;34m(self, stream, strict, warndest, overwriteWarnings)\u001b[0m\n\u001b[0;32m   1082\u001b[0m             \u001b[0mstream\u001b[0m \u001b[1;33m=\u001b[0m \u001b[0mBytesIO\u001b[0m\u001b[1;33m(\u001b[0m\u001b[0mb_\u001b[0m\u001b[1;33m(\u001b[0m\u001b[0mfileobj\u001b[0m\u001b[1;33m.\u001b[0m\u001b[0mread\u001b[0m\u001b[1;33m(\u001b[0m\u001b[1;33m)\u001b[0m\u001b[1;33m)\u001b[0m\u001b[1;33m)\u001b[0m\u001b[1;33m\u001b[0m\u001b[1;33m\u001b[0m\u001b[0m\n\u001b[0;32m   1083\u001b[0m             \u001b[0mfileobj\u001b[0m\u001b[1;33m.\u001b[0m\u001b[0mclose\u001b[0m\u001b[1;33m(\u001b[0m\u001b[1;33m)\u001b[0m\u001b[1;33m\u001b[0m\u001b[1;33m\u001b[0m\u001b[0m\n\u001b[1;32m-> 1084\u001b[1;33m         \u001b[0mself\u001b[0m\u001b[1;33m.\u001b[0m\u001b[0mread\u001b[0m\u001b[1;33m(\u001b[0m\u001b[0mstream\u001b[0m\u001b[1;33m)\u001b[0m\u001b[1;33m\u001b[0m\u001b[1;33m\u001b[0m\u001b[0m\n\u001b[0m\u001b[0;32m   1085\u001b[0m         \u001b[0mself\u001b[0m\u001b[1;33m.\u001b[0m\u001b[0mstream\u001b[0m \u001b[1;33m=\u001b[0m \u001b[0mstream\u001b[0m\u001b[1;33m\u001b[0m\u001b[1;33m\u001b[0m\u001b[0m\n\u001b[0;32m   1086\u001b[0m \u001b[1;33m\u001b[0m\u001b[0m\n",
      "\u001b[1;32m~\\Anaconda3\\lib\\site-packages\\PyPDF2\\pdf.py\u001b[0m in \u001b[0;36mread\u001b[1;34m(self, stream)\u001b[0m\n\u001b[0;32m   1694\u001b[0m         \u001b[1;32mwhile\u001b[0m \u001b[0mline\u001b[0m\u001b[1;33m[\u001b[0m\u001b[1;33m:\u001b[0m\u001b[1;36m5\u001b[0m\u001b[1;33m]\u001b[0m \u001b[1;33m!=\u001b[0m \u001b[0mb_\u001b[0m\u001b[1;33m(\u001b[0m\u001b[1;34m\"%%EOF\"\u001b[0m\u001b[1;33m)\u001b[0m\u001b[1;33m:\u001b[0m\u001b[1;33m\u001b[0m\u001b[1;33m\u001b[0m\u001b[0m\n\u001b[0;32m   1695\u001b[0m             \u001b[1;32mif\u001b[0m \u001b[0mstream\u001b[0m\u001b[1;33m.\u001b[0m\u001b[0mtell\u001b[0m\u001b[1;33m(\u001b[0m\u001b[1;33m)\u001b[0m \u001b[1;33m<\u001b[0m \u001b[0mlast1K\u001b[0m\u001b[1;33m:\u001b[0m\u001b[1;33m\u001b[0m\u001b[1;33m\u001b[0m\u001b[0m\n\u001b[1;32m-> 1696\u001b[1;33m                 \u001b[1;32mraise\u001b[0m \u001b[0mutils\u001b[0m\u001b[1;33m.\u001b[0m\u001b[0mPdfReadError\u001b[0m\u001b[1;33m(\u001b[0m\u001b[1;34m\"EOF marker not found\"\u001b[0m\u001b[1;33m)\u001b[0m\u001b[1;33m\u001b[0m\u001b[1;33m\u001b[0m\u001b[0m\n\u001b[0m\u001b[0;32m   1697\u001b[0m             \u001b[0mline\u001b[0m \u001b[1;33m=\u001b[0m \u001b[0mself\u001b[0m\u001b[1;33m.\u001b[0m\u001b[0mreadNextEndLine\u001b[0m\u001b[1;33m(\u001b[0m\u001b[0mstream\u001b[0m\u001b[1;33m)\u001b[0m\u001b[1;33m\u001b[0m\u001b[1;33m\u001b[0m\u001b[0m\n\u001b[0;32m   1698\u001b[0m             \u001b[1;32mif\u001b[0m \u001b[0mdebug\u001b[0m\u001b[1;33m:\u001b[0m \u001b[0mprint\u001b[0m\u001b[1;33m(\u001b[0m\u001b[1;34m\"  line:\"\u001b[0m\u001b[1;33m,\u001b[0m\u001b[0mline\u001b[0m\u001b[1;33m)\u001b[0m\u001b[1;33m\u001b[0m\u001b[1;33m\u001b[0m\u001b[0m\n",
      "\u001b[1;31mPdfReadError\u001b[0m: EOF marker not found"
     ]
    }
   ],
   "source": [
    "win32api.MessageBox(0,'Welcome to PDF DEWA reader file beta v0.1','Welcome')\n",
    "win32api.MessageBox(0,'Please make sure that all the PDF files on one folder','Warning')\n",
    "ifpath = input('Enter the path: ')\n",
    "path = ('Z:/Finance/Accounts Payables/DEWA/089 YE-2020/07 JulY 2020/')\n",
    "pdf_folder = os.listdir(path)\n",
    "header = ['Period','invoice No','Month','AC No','Water Charges','Swereg Charges','Electricity Charges','Water Gallons','KWh','Current Reding']\n",
    "helper2 = list(range(1,len(header)+1))\n",
    "wb = xw.Book()\n",
    "ws = wb.sheets.active\n",
    "for items, cells in zip(header, helper2):\n",
    "    ws.range(1,cells).value = str(items)\n",
    "helper = range(2, (len(pdf_folder)+2))  \n",
    "for files, i in zip(pdf_folder, helper):\n",
    "    file = open(path + files,'rb')\n",
    "    water = pdf.PdfFileReader(file)\n",
    "    waterpg1 = water.getPage(0)\n",
    "    waterpg1 = waterpg1.extractText()\n",
    "    Period = re.search('Per.{26}',waterpg1).group()\n",
    "    invoice_no = re.findall('Per.{26}(\\d+)',waterpg1)\n",
    "    Month = re.findall('Date:(.{3})',waterpg1)\n",
    "    AC_no1 = re.findall('\\d{10}Account Number',waterpg1)\n",
    "    AC_no = re.findall('\\d+',str(AC_no1))\n",
    "    waterchgs = re.findall('WaterAED(\\d+\\S\\d+)',waterpg1)\n",
    "    swereg = re.findall('SewerageAED(.{8})',waterpg1)\n",
    "    elecchgs = re.findall('ElectricityAED(\\d+.\\S\\d+\\S\\d+\\S\\d+)Water',waterpg1)\n",
    "    waterpg2 = water.getPage(1)\n",
    "    waterpg2 = waterpg2.extractText()\n",
    "    Gallons1= re.findall('Water(\\d+\\W+\\d+\\S\\d+)Imperial',waterpg2)\n",
    "    kwh = re.findall('Electricity(\\d+\\W+\\d+\\S\\d+)K',waterpg2)\n",
    "    kwh_2 = re.findall('A\\)(\\d+)Export', waterpg2)\n",
    "    C_reading = re.findall('Current reading.\\d+',waterpg2)\n",
    "    invoice_no = int(invoice_no[0])\n",
    "    try:\n",
    "        elecchgs = str(elecchgs[0])\n",
    "    except:\n",
    "        elecchgs = 0\n",
    "    try:\n",
    "        kwh = str(kwh[0])\n",
    "    except:\n",
    "        try:\n",
    "            kwh = str(kwh_2[0])\n",
    "        except:\n",
    "            kwh = 0\n",
    "    AC_no = float(AC_no[0])\n",
    "    try:\n",
    "        Month = str(Month[0])\n",
    "    except:\n",
    "        Month = 0\n",
    "    try:   \n",
    "        waterchgs = float(waterchgs[0])\n",
    "        if waterchgs < 1:\n",
    "            waterchgs = 0\n",
    "    except:\n",
    "        try:\n",
    "            waterchgs = str(waterchgs[0])\n",
    "        except:\n",
    "            waterchgs = 0\n",
    "    try:\n",
    "        swereg = str(swereg[0])\n",
    "    except:\n",
    "        swereg = 0\n",
    "    try:\n",
    "        Gallons1 = str(Gallons1[0])\n",
    "    except:\n",
    "        Gallons1 = 0\n",
    "    try:\n",
    "        C_reading = str(C_reading[0])\n",
    "    except:\n",
    "        C_reading = 0\n",
    "    #waterdata[int(i)] = (str(Period),int(invoice_no),str(Month),AC_no,str(waterchgs),str(swereg),str(Gallons1),str(C_reading))\n",
    "    ws.range(i,1).value = [Period,invoice_no,Month,AC_no,waterchgs,swereg,elecchgs,Gallons1,kwh,C_reading]\n",
    "#waterdata"
   ]
  },
  {
   "cell_type": "code",
   "execution_count": 6,
   "metadata": {
    "ExecuteTime": {
     "end_time": "2020-06-19T18:13:48.745918Z",
     "start_time": "2020-06-19T18:13:48.738968Z"
    }
   },
   "outputs": [
    {
     "data": {
      "text/plain": [
       "'abdelsalam'"
      ]
     },
     "execution_count": 6,
     "metadata": {},
     "output_type": "execute_result"
    }
   ],
   "source": [
    "win32api.GetUserName()"
   ]
  },
  {
   "cell_type": "code",
   "execution_count": 54,
   "metadata": {
    "ExecuteTime": {
     "end_time": "2020-08-17T11:17:37.914507Z",
     "start_time": "2020-08-17T11:17:37.894725Z"
    }
   },
   "outputs": [],
   "source": [
    "test_file = open(path + \"002008693333.pdf\",'rb')"
   ]
  },
  {
   "cell_type": "code",
   "execution_count": 55,
   "metadata": {
    "ExecuteTime": {
     "end_time": "2020-08-17T11:17:39.888018Z",
     "start_time": "2020-08-17T11:17:39.763689Z"
    }
   },
   "outputs": [],
   "source": [
    "pdf_test1 = pdf.PdfFileReader(test_file)\n",
    "pdf_test1 = pdf_test1.getPage(1)\n",
    "pdf_test1 = pdf_test1.extractText()"
   ]
  },
  {
   "cell_type": "code",
   "execution_count": 56,
   "metadata": {
    "ExecuteTime": {
     "end_time": "2020-08-17T11:17:41.738726Z",
     "start_time": "2020-08-17T11:17:41.728743Z"
    }
   },
   "outputs": [
    {
     "data": {
      "text/plain": [
       "'2008693333Account NumberGreen BillTax Invoice10003430632Invoice:31/07/2020Issue Date:July 2020Month:Period:08/06/2020to07/07/2020100027620200003DEWA VAT No.:Page 2 of 2dewa.gov.aedewa.ae/smart24/7 Customer Care04 601 9999PO Box 564, Dubai, UAE.A globally leading sustainable innovative corporationFor Generations to ComeElectricityMeter number:775769HMultiplication factor(A):1000.00Sub meters consumption:2150CarbonFootprintKg CO2e1,015,454The Carbon Footprint indicator measures  how your energy usage impacts the  environment. Help us fight global warmingby reducing your monthly consumption.Carbon emissions in Kg CO2eabove 2,000upto 2,000upto 1,250upto 500Import kWhCurrent Reading (B)92520Previous Reading (C)90210Import (D = ( B - C ) * A)2307850Export kWhCurrent Reading (E)0Previous Reading (F)0Export (G = ( E - F ) * A)0Allocation from  Previous Month (I)0Allocation from  \\nHosting Account (H)0Net Billed Consumption \\n(D-G-H-I)2307850Export kWhOpening Balance-Excess \\nExport Jun 8, 20200Current Month Export0Less Allocation  \\nDuring Current Month0Less Allocation  \\nto Secondary Account0Export Unit Balance \\nJul 7, 20200ElectricityConsumptionRateAED2,000kWh0.230AED460.002,000kWh0.280AED560.002,000kWh0.320AED640.002,301,850kWh0.380AED874,703.00ConsumptionRateAED2,307,850kWh0.065AED150,010.25Fuel SurchargeMeter service charge40.00  Sub totalElectricity total1,077,733.91 VATAED  5% VAT applicable on total amount of 1,026,413.25 51,320.66  Sub total40.00Sub total1,026,413.25'"
      ]
     },
     "execution_count": 56,
     "metadata": {},
     "output_type": "execute_result"
    }
   ],
   "source": [
    "pdf_test1"
   ]
  },
  {
   "cell_type": "code",
   "execution_count": 71,
   "metadata": {
    "ExecuteTime": {
     "end_time": "2020-08-17T11:24:43.440362Z",
     "start_time": "2020-08-17T11:24:43.426854Z"
    }
   },
   "outputs": [],
   "source": [
    "kwh_2 = re.findall('A\\)(\\d+)Export', pdf_test1)"
   ]
  },
  {
   "cell_type": "code",
   "execution_count": 72,
   "metadata": {
    "ExecuteTime": {
     "end_time": "2020-08-17T11:24:44.102234Z",
     "start_time": "2020-08-17T11:24:44.086907Z"
    }
   },
   "outputs": [
    {
     "data": {
      "text/plain": [
       "['2307850']"
      ]
     },
     "execution_count": 72,
     "metadata": {},
     "output_type": "execute_result"
    }
   ],
   "source": [
    "kwh"
   ]
  },
  {
   "cell_type": "code",
   "execution_count": null,
   "metadata": {},
   "outputs": [],
   "source": []
  }
 ],
 "metadata": {
  "kernelspec": {
   "display_name": "Python 3",
   "language": "python",
   "name": "python3"
  },
  "language_info": {
   "codemirror_mode": {
    "name": "ipython",
    "version": 3
   },
   "file_extension": ".py",
   "mimetype": "text/x-python",
   "name": "python",
   "nbconvert_exporter": "python",
   "pygments_lexer": "ipython3",
   "version": "3.7.6"
  },
  "varInspector": {
   "cols": {
    "lenName": 16,
    "lenType": 16,
    "lenVar": 40
   },
   "kernels_config": {
    "python": {
     "delete_cmd_postfix": "",
     "delete_cmd_prefix": "del ",
     "library": "var_list.py",
     "varRefreshCmd": "print(var_dic_list())"
    },
    "r": {
     "delete_cmd_postfix": ") ",
     "delete_cmd_prefix": "rm(",
     "library": "var_list.r",
     "varRefreshCmd": "cat(var_dic_list()) "
    }
   },
   "types_to_exclude": [
    "module",
    "function",
    "builtin_function_or_method",
    "instance",
    "_Feature"
   ],
   "window_display": false
  }
 },
 "nbformat": 4,
 "nbformat_minor": 4
}
